{
 "cells": [
  {
   "cell_type": "code",
   "execution_count": null,
   "metadata": {},
   "outputs": [
    {
     "ename": "",
     "evalue": "",
     "output_type": "error",
     "traceback": [
      "\u001b[1;31mJupyter cannot be started. Error attempting to locate jupyter: Running cells with 'Python 3.9.10 64-bit' requires jupyter and notebook package.\n",
      "Run the following command to install 'jupyter and notebook' into the Python environment. \n",
      "Command: 'python -m pip install jupyter notebook -U\n",
      "or\n",
      "conda install jupyter notebook -U'\n",
      "Click <a href='https://aka.ms/installJupyterForVSCode'>here</a> for more info."
     ]
    }
   ],
   "source": [
    "from pathlib import Path\n",
    "import pandas as pd\n",
    "import networkx as nx\n",
    "\n",
    "from src.DeepWalk import  DeepWalk\n",
    "from src.evaluate import evaluation\n",
    "\n",
    "from torch_geometric.datasets import Planetoid"
   ]
  },
  {
   "cell_type": "markdown",
   "metadata": {},
   "source": [
    "## Define Functions"
   ]
  },
  {
   "cell_type": "markdown",
   "metadata": {},
   "source": [
    "## Read Datasets"
   ]
  },
  {
   "cell_type": "code",
   "execution_count": 2,
   "metadata": {},
   "outputs": [],
   "source": [
    "path = Path.cwd()/'graph_dataset'\n",
    "cora_datasets = Planetoid(path, 'Cora')\n",
    "pubmed_datasets = Planetoid(path, 'PubMed')"
   ]
  },
  {
   "cell_type": "code",
   "execution_count": 3,
   "metadata": {},
   "outputs": [
    {
     "name": "stdout",
     "output_type": "stream",
     "text": [
      "Cora: Num_of_nodes - 2708 , Num_of_edges - 5278\n",
      "PubMed: Num_of_nodes - 19717 , Num_of_edges - 44324\n"
     ]
    }
   ],
   "source": [
    "cora_edge = pd.DataFrame(cora_datasets[0].edge_index.numpy().T, columns=['source', 'target'])\n",
    "cora_label = pd.DataFrame(cora_datasets[0].y.numpy().T, columns=['label'])\n",
    "cora_graph = nx.from_pandas_edgelist(cora_edge, source='source', target='target')\n",
    "print('Cora: Num_of_nodes -', cora_graph.number_of_nodes(), ', Num_of_edges -', cora_graph.number_of_edges())\n",
    "\n",
    "pub_edge = pd.DataFrame(pubmed_datasets[0].edge_index.numpy().T, columns=['source', 'target'])\n",
    "pub_label = pd.DataFrame(pubmed_datasets[0].y.numpy().T, columns=['label'])\n",
    "pub_graph = nx.from_pandas_edgelist(pub_edge, source='source', target='target')\n",
    "print('PubMed: Num_of_nodes -', pub_graph.number_of_nodes(), ', Num_of_edges -', pub_graph.number_of_edges())\n"
   ]
  },
  {
   "cell_type": "markdown",
   "metadata": {},
   "source": [
    "## Cora Datasets"
   ]
  },
  {
   "cell_type": "code",
   "execution_count": 4,
   "metadata": {},
   "outputs": [],
   "source": [
    "rw_deepwalk = DeepWalk(cora_graph, method='random_walk')\n",
    "erw_deepwalk = DeepWalk(cora_graph, method='efficient_random_walk')"
   ]
  },
  {
   "cell_type": "code",
   "execution_count": 5,
   "metadata": {},
   "outputs": [
    {
     "name": "stdout",
     "output_type": "stream",
     "text": [
      "num_walks:  81240\n",
      "Loss after epoch 0: 1862587.5\n",
      "Loss after epoch 1: 1103390.0\n",
      "Loss after epoch 2: 1084705.5\n",
      "Loss after epoch 3: 1023409.0\n",
      "Loss after epoch 4: 1018460.0\n",
      "Loss after epoch 5: 1016488.5\n",
      "Loss after epoch 6: 1014094.0\n",
      "Loss after epoch 7: 945643.5\n",
      "Loss after epoch 8: 925762.0\n",
      "Loss after epoch 9: 921778.0\n",
      "CPU times: user 38.2 s, sys: 233 ms, total: 38.4 s\n",
      "Wall time: 13.8 s\n"
     ]
    }
   ],
   "source": [
    "%%time\n",
    "rw_deepwalk.random_walk(walk_len=20, num_walks=30)\n",
    "rw_deepwalk.train(embed_size=64, window_size=5, epochs=10)\n"
   ]
  },
  {
   "cell_type": "code",
   "execution_count": 6,
   "metadata": {},
   "outputs": [
    {
     "name": "stdout",
     "output_type": "stream",
     "text": [
      "num_walks:  10256\n",
      "Loss after epoch 0: 846839.3125\n",
      "Loss after epoch 1: 217447.9375\n",
      "Loss after epoch 2: 160638.875\n",
      "Loss after epoch 3: 151349.5\n",
      "Loss after epoch 4: 148165.5\n",
      "Loss after epoch 5: 146211.875\n",
      "Loss after epoch 6: 144184.25\n",
      "Loss after epoch 7: 144182.25\n",
      "Loss after epoch 8: 141802.25\n",
      "Loss after epoch 9: 138455.0\n",
      "CPU times: user 5.68 s, sys: 48.4 ms, total: 5.73 s\n",
      "Wall time: 2.48 s\n"
     ]
    }
   ],
   "source": [
    "%%time\n",
    "erw_deepwalk.random_walk(walk_len=20, num_walks=30)\n",
    "erw_deepwalk.train(embed_size=64, window_size=5, epochs=10)"
   ]
  },
  {
   "cell_type": "code",
   "execution_count": 7,
   "metadata": {},
   "outputs": [
    {
     "name": "stdout",
     "output_type": "stream",
     "text": [
      "Cora with random walk\n",
      "Training f1:  0.3837467018469657 Testing f1 0.29815498154981546\n",
      "Cora with efficient random walk\n",
      "Training f1:  0.4001055408970976 Testing f1 0.29864698646986476\n"
     ]
    }
   ],
   "source": [
    "print('Cora with random walk')\n",
    "evaluation(rw_deepwalk, cora_label, 0.3, metric='f1')\n",
    "\n",
    "print('Cora with efficient random walk')\n",
    "evaluation(erw_deepwalk, cora_label, 0.3, metric='f1')"
   ]
  },
  {
   "cell_type": "markdown",
   "metadata": {},
   "source": [
    "## PubMed Dataset"
   ]
  },
  {
   "cell_type": "code",
   "execution_count": 8,
   "metadata": {},
   "outputs": [],
   "source": [
    "rw_deepwalk = DeepWalk(pub_graph, method='random_walk')\n",
    "erw_deepwalk = DeepWalk(pub_graph, method='efficient_random_walk')"
   ]
  },
  {
   "cell_type": "code",
   "execution_count": 9,
   "metadata": {},
   "outputs": [
    {
     "name": "stdout",
     "output_type": "stream",
     "text": [
      "num_walks:  394340\n",
      "Loss after epoch 0: 8345724.0\n",
      "Loss after epoch 1: 3785126.0\n",
      "Loss after epoch 2: 3704197.0\n",
      "Loss after epoch 3: 3235751.0\n",
      "Loss after epoch 4: 3067702.0\n",
      "Loss after epoch 5: 3042934.0\n",
      "Loss after epoch 6: 3012326.0\n",
      "Loss after epoch 7: 2992820.0\n",
      "Loss after epoch 8: 2782876.0\n",
      "Loss after epoch 9: 2048484.0\n",
      "CPU times: user 3min 26s, sys: 937 ms, total: 3min 27s\n",
      "Wall time: 1min 13s\n"
     ]
    }
   ],
   "source": [
    "%%time\n",
    "rw_deepwalk.random_walk(walk_len=20, num_walks=20)\n",
    "rw_deepwalk.train(embed_size=64, window_size=5, epochs=10)"
   ]
  },
  {
   "cell_type": "code",
   "execution_count": 10,
   "metadata": {},
   "outputs": [
    {
     "name": "stdout",
     "output_type": "stream",
     "text": [
      "num_walks:  78375\n",
      "Loss after epoch 0: 4791145.0\n",
      "Loss after epoch 1: 1132212.5\n",
      "Loss after epoch 2: 930495.5\n",
      "Loss after epoch 3: 873189.0\n",
      "Loss after epoch 4: 825332.0\n",
      "Loss after epoch 5: 746745.0\n",
      "Loss after epoch 6: 734467.0\n",
      "Loss after epoch 7: 715256.0\n",
      "Loss after epoch 8: 718345.0\n",
      "Loss after epoch 9: 714259.0\n",
      "CPU times: user 48.7 s, sys: 228 ms, total: 48.9 s\n",
      "Wall time: 28.4 s\n"
     ]
    }
   ],
   "source": [
    "%%time\n",
    "erw_deepwalk.random_walk(walk_len=20, num_walks=20)\n",
    "erw_deepwalk.train(embed_size=64, window_size=5, epochs=10)"
   ]
  },
  {
   "cell_type": "code",
   "execution_count": 11,
   "metadata": {},
   "outputs": [
    {
     "name": "stdout",
     "output_type": "stream",
     "text": [
      "PubMed with random walk\n",
      "Training f1:  0.5541627418303021 Testing f1 0.39827586206896554\n",
      "PubMed with efficient random walk\n",
      "Training f1:  0.5391783204115643 Testing f1 0.3982420554428668\n"
     ]
    }
   ],
   "source": [
    "print('PubMed with random walk')\n",
    "evaluation(rw_deepwalk, pub_label, 0.3, metric='f1')\n",
    "\n",
    "print('PubMed with efficient random walk')\n",
    "evaluation(erw_deepwalk, pub_label, 0.3, metric='f1')"
   ]
  }
 ],
 "metadata": {
  "interpreter": {
   "hash": "a84e56a3fafdd2f63d37e867594205a7f3c7b4dd56c4d0dbe9032e5cf967bb03"
  },
  "kernelspec": {
   "display_name": "Python 3.8.13 ('graph-env')",
   "language": "python",
   "name": "python3"
  },
  "language_info": {
   "codemirror_mode": {
    "name": "ipython",
    "version": 3
   },
   "file_extension": ".py",
   "mimetype": "text/x-python",
   "name": "python",
   "nbconvert_exporter": "python",
   "pygments_lexer": "ipython3",
   "version": "3.8.13"
  },
  "orig_nbformat": 4
 },
 "nbformat": 4,
 "nbformat_minor": 2
}
