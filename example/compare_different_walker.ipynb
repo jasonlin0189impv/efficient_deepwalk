{
 "cells": [
  {
   "cell_type": "code",
   "execution_count": 9,
   "metadata": {},
   "outputs": [],
   "source": [
    "import sys\n",
    "from pathlib import Path\n",
    "sys.path.append(str(Path.cwd().resolve().parent))\n",
    "\n",
    "import pandas as pd\n",
    "import networkx as nx\n",
    "\n",
    "from src.DeepWalk import  DeepWalk\n",
    "from src.evaluate import evaluation\n",
    "\n",
    "from torch_geometric.datasets import Planetoid"
   ]
  },
  {
   "cell_type": "markdown",
   "metadata": {},
   "source": [
    "## Define Functions"
   ]
  },
  {
   "cell_type": "markdown",
   "metadata": {},
   "source": [
    "## Read Datasets"
   ]
  },
  {
   "cell_type": "code",
   "execution_count": 2,
   "metadata": {},
   "outputs": [],
   "source": [
    "path = Path.cwd()/'graph_dataset'\n",
    "cora_datasets = Planetoid(path, 'Cora')\n",
    "pubmed_datasets = Planetoid(path, 'PubMed')"
   ]
  },
  {
   "cell_type": "code",
   "execution_count": 3,
   "metadata": {},
   "outputs": [
    {
     "name": "stdout",
     "output_type": "stream",
     "text": [
      "Cora: Num_of_nodes - 2708 , Num_of_edges - 5278\n",
      "PubMed: Num_of_nodes - 19717 , Num_of_edges - 44324\n"
     ]
    }
   ],
   "source": [
    "cora_edge = pd.DataFrame(cora_datasets[0].edge_index.numpy().T, columns=['source', 'target'])\n",
    "cora_label = pd.DataFrame(cora_datasets[0].y.numpy().T, columns=['label'])\n",
    "cora_graph = nx.from_pandas_edgelist(cora_edge, source='source', target='target')\n",
    "print('Cora: Num_of_nodes -', cora_graph.number_of_nodes(), ', Num_of_edges -', cora_graph.number_of_edges())\n",
    "\n",
    "pub_edge = pd.DataFrame(pubmed_datasets[0].edge_index.numpy().T, columns=['source', 'target'])\n",
    "pub_label = pd.DataFrame(pubmed_datasets[0].y.numpy().T, columns=['label'])\n",
    "pub_graph = nx.from_pandas_edgelist(pub_edge, source='source', target='target')\n",
    "print('PubMed: Num_of_nodes -', pub_graph.number_of_nodes(), ', Num_of_edges -', pub_graph.number_of_edges())\n"
   ]
  },
  {
   "cell_type": "markdown",
   "metadata": {},
   "source": [
    "## Cora Datasets"
   ]
  },
  {
   "cell_type": "code",
   "execution_count": 4,
   "metadata": {},
   "outputs": [],
   "source": [
    "rw_deepwalk = DeepWalk(cora_graph, method='random_walk')\n",
    "erw_deepwalk = DeepWalk(cora_graph, method='efficient_random_walk')"
   ]
  },
  {
   "cell_type": "code",
   "execution_count": 5,
   "metadata": {},
   "outputs": [
    {
     "name": "stdout",
     "output_type": "stream",
     "text": [
      "num_walks:  81240\n",
      "Loss after epoch 0: 1895561.625\n",
      "Loss after epoch 1: 1101357.875\n",
      "Loss after epoch 2: 1081624.0\n",
      "Loss after epoch 3: 1026770.0\n",
      "Loss after epoch 4: 1023102.0\n",
      "Loss after epoch 5: 1012534.0\n",
      "Loss after epoch 6: 1008904.0\n",
      "Loss after epoch 7: 950972.5\n",
      "Loss after epoch 8: 929293.0\n",
      "Loss after epoch 9: 929387.0\n",
      "CPU times: user 38.5 s, sys: 228 ms, total: 38.7 s\n",
      "Wall time: 13.8 s\n"
     ]
    }
   ],
   "source": [
    "%%time\n",
    "rw_deepwalk.random_walk(walk_len=20, num_walks=30)\n",
    "rw_deepwalk.train(embed_size=64, window_size=5, epochs=10)\n"
   ]
  },
  {
   "cell_type": "code",
   "execution_count": 6,
   "metadata": {},
   "outputs": [
    {
     "name": "stdout",
     "output_type": "stream",
     "text": [
      "num_walks:  10338\n",
      "Loss after epoch 0: 846984.875\n",
      "Loss after epoch 1: 219158.75\n",
      "Loss after epoch 2: 161289.5\n",
      "Loss after epoch 3: 152859.25\n",
      "Loss after epoch 4: 147556.125\n",
      "Loss after epoch 5: 148136.125\n",
      "Loss after epoch 6: 146765.25\n",
      "Loss after epoch 7: 143407.5\n",
      "Loss after epoch 8: 143148.375\n",
      "Loss after epoch 9: 138777.25\n",
      "CPU times: user 5.83 s, sys: 39.1 ms, total: 5.87 s\n",
      "Wall time: 2.5 s\n"
     ]
    }
   ],
   "source": [
    "%%time\n",
    "erw_deepwalk.random_walk(walk_len=20, num_walks=30)\n",
    "erw_deepwalk.train(embed_size=64, window_size=5, epochs=10)"
   ]
  },
  {
   "cell_type": "code",
   "execution_count": 7,
   "metadata": {},
   "outputs": [
    {
     "name": "stdout",
     "output_type": "stream",
     "text": [
      "Cora with random walk\n",
      "Training f1:  0.39313984168865435 Testing f1 0.29889298892988936\n",
      "Cora with efficient random walk\n",
      "Training f1:  0.3952506596306068 Testing f1 0.2988929889298893\n"
     ]
    }
   ],
   "source": [
    "print('Cora with random walk')\n",
    "evaluation(rw_deepwalk, cora_label, 0.3, metric='f1')\n",
    "\n",
    "print('Cora with efficient random walk')\n",
    "evaluation(erw_deepwalk, cora_label, 0.3, metric='f1')"
   ]
  },
  {
   "cell_type": "markdown",
   "metadata": {},
   "source": [
    "## PubMed Dataset"
   ]
  },
  {
   "cell_type": "code",
   "execution_count": 8,
   "metadata": {},
   "outputs": [],
   "source": [
    "rw_deepwalk = DeepWalk(pub_graph, method='random_walk')\n",
    "erw_deepwalk = DeepWalk(pub_graph, method='efficient_random_walk')"
   ]
  },
  {
   "cell_type": "code",
   "execution_count": 9,
   "metadata": {},
   "outputs": [
    {
     "name": "stdout",
     "output_type": "stream",
     "text": [
      "num_walks:  394340\n",
      "Loss after epoch 0: 8340368.5\n",
      "Loss after epoch 1: 3780346.5\n",
      "Loss after epoch 2: 3703453.0\n",
      "Loss after epoch 3: 3254304.0\n",
      "Loss after epoch 4: 3087558.0\n",
      "Loss after epoch 5: 3041380.0\n",
      "Loss after epoch 6: 3016232.0\n",
      "Loss after epoch 7: 2980394.0\n",
      "Loss after epoch 8: 2779744.0\n",
      "Loss after epoch 9: 2054732.0\n",
      "CPU times: user 3min 27s, sys: 854 ms, total: 3min 27s\n",
      "Wall time: 1min 13s\n"
     ]
    }
   ],
   "source": [
    "%%time\n",
    "rw_deepwalk.random_walk(walk_len=20, num_walks=20)\n",
    "rw_deepwalk.train(embed_size=64, window_size=5, epochs=10)"
   ]
  },
  {
   "cell_type": "code",
   "execution_count": 10,
   "metadata": {},
   "outputs": [
    {
     "name": "stdout",
     "output_type": "stream",
     "text": [
      "num_walks:  78502\n",
      "Loss after epoch 0: 4788352.0\n",
      "Loss after epoch 1: 1137961.5\n",
      "Loss after epoch 2: 935781.0\n",
      "Loss after epoch 3: 880480.5\n",
      "Loss after epoch 4: 827477.0\n",
      "Loss after epoch 5: 751264.0\n",
      "Loss after epoch 6: 735263.0\n",
      "Loss after epoch 7: 729302.0\n",
      "Loss after epoch 8: 722576.0\n",
      "Loss after epoch 9: 714707.0\n",
      "CPU times: user 48.9 s, sys: 250 ms, total: 49.2 s\n",
      "Wall time: 28.3 s\n"
     ]
    }
   ],
   "source": [
    "%%time\n",
    "erw_deepwalk.random_walk(walk_len=20, num_walks=20)\n",
    "erw_deepwalk.train(embed_size=64, window_size=5, epochs=10)"
   ]
  },
  {
   "cell_type": "code",
   "execution_count": 11,
   "metadata": {},
   "outputs": [
    {
     "name": "stdout",
     "output_type": "stream",
     "text": [
      "PubMed with random walk\n",
      "Training f1:  0.550061589739874 Testing f1 0.3992224475997295\n",
      "PubMed with efficient random walk\n",
      "Training f1:  0.5434533729439895 Testing f1 0.4000338066260987\n"
     ]
    }
   ],
   "source": [
    "print('PubMed with random walk')\n",
    "evaluation(rw_deepwalk, pub_label, 0.3, metric='f1')\n",
    "\n",
    "print('PubMed with efficient random walk')\n",
    "evaluation(erw_deepwalk, pub_label, 0.3, metric='f1')"
   ]
  }
 ],
 "metadata": {
  "interpreter": {
   "hash": "a84e56a3fafdd2f63d37e867594205a7f3c7b4dd56c4d0dbe9032e5cf967bb03"
  },
  "kernelspec": {
   "display_name": "Python 3.8.13 ('graph-env')",
   "language": "python",
   "name": "python3"
  },
  "language_info": {
   "codemirror_mode": {
    "name": "ipython",
    "version": 3
   },
   "file_extension": ".py",
   "mimetype": "text/x-python",
   "name": "python",
   "nbconvert_exporter": "python",
   "pygments_lexer": "ipython3",
   "version": "3.8.13"
  },
  "orig_nbformat": 4
 },
 "nbformat": 4,
 "nbformat_minor": 2
}
